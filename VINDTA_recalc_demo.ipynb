{
 "cells": [
  {
   "cell_type": "code",
   "execution_count": 4,
   "metadata": {
    "ExecuteTime": {
     "end_time": "2017-09-29T14:58:09.991543Z",
     "start_time": "2017-09-29T14:58:09.985698Z"
    }
   },
   "outputs": [],
   "source": [
    "from importlib import reload\n",
    "import pandas as pd\n",
    "import VINDTA_recALK_v22 as vr\n",
    "\n",
    "import seaborn as sns"
   ]
  },
  {
   "cell_type": "code",
   "execution_count": 5,
   "metadata": {
    "ExecuteTime": {
     "end_time": "2017-09-29T14:58:10.517900Z",
     "start_time": "2017-09-29T14:58:10.512882Z"
    },
    "collapsed": true
   },
   "outputs": [],
   "source": [
    "dbs_filename = '../../Data/level_0a/VINDTA#018_data/test20170920_LG.dbs'\n",
    "datfiles_dir = '../../Data/level_0a/VINDTA#018_data/test20170920_LG/'\n",
    "xls_filename = '../../Data/level_1/test20170920_LG.xlsx'"
   ]
  },
  {
   "cell_type": "code",
   "execution_count": 7,
   "metadata": {
    "ExecuteTime": {
     "end_time": "2017-09-29T14:58:17.132880Z",
     "start_time": "2017-09-29T14:58:16.978296Z"
    }
   },
   "outputs": [
    {
     "name": "stdout",
     "output_type": "stream",
     "text": [
      "TEST20170926001\n",
      "test20170927b\n",
      "test20170927c\n",
      "test20170927d\n",
      "test20170927f\n",
      "test20170927ATonly\n",
      "test20170927g_TA\n"
     ]
    }
   ],
   "source": [
    "df = vr.dbs_to_excel(\n",
    "    dbs_filename,\n",
    "    datfiles_dir,\n",
    "    xls_filename,\n",
    "    acidconcL=0.1,\n",
    "    aciddens=1.02266027,\n",
    "    pipVol=97.846,\n",
    "    pKchoice=13,\n",
    "    po4=0.5,\n",
    "    sio4=2.12,\n",
    "    factorCT=1.0,\n",
    "    verbose=True\n",
    ")"
   ]
  },
  {
   "cell_type": "code",
   "execution_count": null,
   "metadata": {
    "collapsed": true
   },
   "outputs": [],
   "source": []
  }
 ],
 "metadata": {
  "kernelspec": {
   "display_name": "Python 3",
   "language": "python",
   "name": "python3"
  },
  "language_info": {
   "codemirror_mode": {
    "name": "ipython",
    "version": 3
   },
   "file_extension": ".py",
   "mimetype": "text/x-python",
   "name": "python",
   "nbconvert_exporter": "python",
   "pygments_lexer": "ipython3",
   "version": "3.6.0"
  },
  "toc": {
   "colors": {
    "hover_highlight": "#DAA520",
    "running_highlight": "#FF0000",
    "selected_highlight": "#FFD700"
   },
   "moveMenuLeft": true,
   "nav_menu": {
    "height": "48px",
    "width": "252px"
   },
   "navigate_menu": true,
   "number_sections": true,
   "sideBar": true,
   "threshold": 4,
   "toc_cell": false,
   "toc_section_display": "block",
   "toc_window_display": false,
   "widenNotebook": false
  }
 },
 "nbformat": 4,
 "nbformat_minor": 2
}
