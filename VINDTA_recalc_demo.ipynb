{
 "cells": [
  {
   "cell_type": "code",
   "execution_count": 1,
   "metadata": {
    "ExecuteTime": {
     "end_time": "2018-06-15T08:09:43.900117Z",
     "start_time": "2018-06-15T08:09:42.773324Z"
    }
   },
   "outputs": [],
   "source": [
    "import pandas as pd\n",
    "import seaborn as sns\n",
    "\n",
    "import vindta_reCAlk as vr"
   ]
  },
  {
   "cell_type": "code",
   "execution_count": 2,
   "metadata": {
    "ExecuteTime": {
     "end_time": "2018-06-15T08:09:44.457789Z",
     "start_time": "2018-06-15T08:09:44.453141Z"
    }
   },
   "outputs": [],
   "source": [
    "dbs_filename = './test_data/Gough2013.dbs'\n",
    "datfiles_dir = './test_data/'\n",
    "xls_filename = './test_data/output.xlsx'"
   ]
  },
  {
   "cell_type": "code",
   "execution_count": 3,
   "metadata": {
    "ExecuteTime": {
     "end_time": "2018-06-15T08:09:45.940862Z",
     "start_time": "2018-06-15T08:09:44.966922Z"
    }
   },
   "outputs": [],
   "source": [
    "df = vr.dbs_to_excel(\n",
    "    dbs_filename,\n",
    "    datfiles_dir,\n",
    "    xls_filename,\n",
    "    acidconcL=0.1,\n",
    "    aciddens=1.02266027,\n",
    "    pipVol=97.846,\n",
    "    pKchoice=13,\n",
    "    po4=0.5,\n",
    "    sio4=2.12,\n",
    "    factorCT=1.0\n",
    ")"
   ]
  },
  {
   "cell_type": "code",
   "execution_count": 4,
   "metadata": {
    "ExecuteTime": {
     "end_time": "2018-06-15T08:09:47.923149Z",
     "start_time": "2018-06-15T08:09:46.823040Z"
    }
   },
   "outputs": [
    {
     "name": "stdout",
     "output_type": "stream",
     "text": [
      "\n",
      "        Note that this function should only be used once you have run the\n",
      "        VINDTA_recALK.dbs_to_excel. You need to fill in the in-situ\n",
      "        temperature, salinity, and nutrient data.\n",
      "        \n",
      "./test_data/1-1  1  (1)CRM0001340629A.dat after 6 iterations\n",
      "./test_data/1-1  1  (1)CRM0001340629B.dat after 7 iterations\n",
      "./test_data/1-1  1  (1)CRM0001340629C.dat after 7 iterations\n",
      "./test_data/1-1  1  (1)CRM0001341225A.dat after 7 iterations\n",
      "./test_data/1-1  1  (1)CRM0001341225B.dat after 7 iterations\n",
      "./test_data/1-1  1  (1)CRM0001341012A.dat after 7 iterations\n",
      "./test_data/1-1  1  (1)CRM0001341012B.dat after 7 iterations\n",
      "./test_data/1-1  1  (1)CRM0001341021A.dat after 7 iterations\n",
      "./test_data/1-1  1  (1)CRM0001341021B.dat after 7 iterations\n",
      "./test_data/1-1  1  (51)CRM0001340784A.dat after 7 iterations\n",
      "./test_data/1-1  1  (51)CRM0001340784B.dat after 7 iterations\n",
      "./test_data/1-1  1  (1)CRM0001340904A.dat after 7 iterations\n",
      "./test_data/1-1  1  (1)CRM0001340904B.dat after 7 iterations\n",
      "./test_data/1-1  1  (1)CRM0001340904C.dat after 7 iterations\n",
      "./test_data/1-1  1  (1)CRM0001340843A.dat after 7 iterations\n",
      "./test_data/1-1  1  (1)CRM0001340843B.dat after 7 iterations\n",
      "./test_data/1-1  1  (1)CRM0001340843C.dat after 7 iterations\n",
      "./test_data/1-1  1  (1)CRM0001340629A.dat\n",
      "./test_data/1-1  1  (1)CRM0001340629B.dat\n",
      "./test_data/1-1  1  (1)CRM0001340629C.dat\n",
      "./test_data/1-1  1  (1)TEST20140409A.dat\n",
      "./test_data/1-1  1  (1)TEST20140409B.dat\n",
      "./test_data/1-1  1  (1)CRM0001341225A.dat\n",
      "./test_data/1-1  1  (1)CRM0001341225B.dat\n",
      "./test_data/1-1  12  (5)GHG20130905196A.dat\n",
      "./test_data/1-1  12  (5)GHG20130905146.dat\n",
      "./test_data/1-1  12  (5)GHG20130905189.dat\n",
      "./test_data/1-1  12  (5)GHG20130905107.dat\n",
      "./test_data/1-1  12  (5)GHG20130905182.dat\n",
      "./test_data/1-1  12  (5)GHG20130905110.dat\n",
      "./test_data/1-1  12  (5)GHG20130905159.dat\n",
      "./test_data/1-1  1  (1)CRM0001341012A.dat\n",
      "./test_data/1-1  1  (1)CRM0001341012B.dat\n",
      "./test_data/1-1  1  (1)TEST20140410A.dat\n",
      "./test_data/1-1  1  (1)TEST20140410B.dat\n",
      "./test_data/1-1  1  (1)CRM0001341021A.dat\n",
      "./test_data/1-1  1  (1)CRM0001341021B.dat\n",
      "./test_data/1-1  1  (5)GHG20130906109.dat\n",
      "./test_data/1-1  1  (5)GHG20130906156.dat\n",
      "./test_data/1-1  1  (5)GHG20130906118.dat\n",
      "./test_data/1-1  1  (5)GHG20130907206.dat\n",
      "./test_data/1-1  1  (5)GHG20130907106.dat\n",
      "./test_data/1-1  1  (5)GHG20130907123.dat\n",
      "./test_data/1-1  1  (5)GHG20130907115.dat\n",
      "./test_data/1-1  1  (5)GHG20130907114.dat\n",
      "./test_data/1-1  1  (5)GHG20130907181.dat\n",
      "./test_data/1-1  1  (5)GHG20130907185.dat\n",
      "./test_data/1-1  1  (51)CRM0001340784A.dat\n",
      "./test_data/1-1  1  (51)CRM0001340784B.dat\n",
      "./test_data/1-1  1  (1)TEST20140411AA.dat\n",
      "./test_data/1-1  1  (1)TEST20140411B.dat\n",
      "./test_data/1-1  1  (1)CRM0001340904A.dat\n",
      "./test_data/1-1  1  (1)CRM0001340904B.dat\n",
      "./test_data/1-1  1  (1)CRM0001340904C.dat\n",
      "./test_data/1-1  1  (1)GHG20130908157.dat\n",
      "./test_data/1-1  1  (1)GHG20130908104.dat\n",
      "./test_data/1-1  1  (1)GHG20130908120.dat\n",
      "./test_data/1-1  1  (1)GHG20130908195.dat\n",
      "./test_data/1-1  1  (1)GHG20130909192.dat\n",
      "./test_data/1-1  1  (1)GHG20130908117.dat\n",
      "./test_data/1-1  1  (1)GHG20130908200.dat\n",
      "./test_data/1-1  1  (1)GHG20130908119.dat\n",
      "./test_data/1-1  1  (1)CRM0001340843A.dat\n",
      "./test_data/1-1  1  (1)CRM0001340843B.dat\n",
      "./test_data/1-1  1  (1)CRM0001340843C.dat\n"
     ]
    }
   ],
   "source": [
    "df = vr.recalculate_CO2_from_excel(xls_filename)"
   ]
  },
  {
   "cell_type": "code",
   "execution_count": null,
   "metadata": {},
   "outputs": [],
   "source": []
  }
 ],
 "metadata": {
  "hide_input": false,
  "kernelspec": {
   "display_name": "Python 3",
   "language": "python",
   "name": "python3"
  },
  "language_info": {
   "codemirror_mode": {
    "name": "ipython",
    "version": 3
   },
   "file_extension": ".py",
   "mimetype": "text/x-python",
   "name": "python",
   "nbconvert_exporter": "python",
   "pygments_lexer": "ipython3",
   "version": "3.6.3"
  },
  "toc": {
   "nav_menu": {
    "height": "48px",
    "width": "252px"
   },
   "number_sections": true,
   "sideBar": true,
   "skip_h1_title": false,
   "title_cell": "Table of Contents",
   "title_sidebar": "Contents",
   "toc_cell": false,
   "toc_position": {},
   "toc_section_display": "block",
   "toc_window_display": false
  }
 },
 "nbformat": 4,
 "nbformat_minor": 2
}
